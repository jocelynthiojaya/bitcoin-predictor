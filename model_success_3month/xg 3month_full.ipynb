{
  "cells": [
    {
      "cell_type": "code",
      "execution_count": 61,
      "metadata": {
        "id": "U6vFquwxw5eK"
      },
      "outputs": [],
      "source": [
        "from numpy import loadtxt\n",
        "from xgboost import XGBClassifier\n",
        "from sklearn.model_selection import train_test_split\n",
        "from sklearn.model_selection import GridSearchCV\n",
        "from sklearn.metrics import accuracy_score\n",
        "from sklearn.metrics import roc_auc_score\n",
        "import numpy as np\n",
        "from matplotlib import pyplot as plt\n",
        "import pandas as pd "
      ]
    },
    {
      "cell_type": "code",
      "execution_count": 62,
      "metadata": {
        "colab": {
          "base_uri": "https://localhost:8080/"
        },
        "id": "fHNjPOtLxECI",
        "outputId": "29e9f6ed-04e7-49f9-e66f-a492d917e73c"
      },
      "outputs": [
        {
          "name": "stdout",
          "output_type": "stream",
          "text": [
            "<class 'pandas.core.frame.DataFrame'>\n",
            "RangeIndex: 33247 entries, 0 to 33246\n",
            "Data columns (total 11 columns):\n",
            " #   Column             Non-Null Count  Dtype  \n",
            "---  ------             --------------  -----  \n",
            " 0   user_followers     33247 non-null  float64\n",
            " 1   user_favourites    33247 non-null  float64\n",
            " 2   user_verified      33247 non-null  int64  \n",
            " 3   sentimental_value  33247 non-null  float64\n",
            " 4   Open               33247 non-null  float64\n",
            " 5   High               33247 non-null  float64\n",
            " 6   Low                33247 non-null  float64\n",
            " 7   Volume             33247 non-null  float64\n",
            " 8   VWAP               33247 non-null  float64\n",
            " 9   Target             33247 non-null  float64\n",
            " 10  is_positive        33247 non-null  int64  \n",
            "dtypes: float64(9), int64(2)\n",
            "memory usage: 2.8 MB\n"
          ]
        }
      ],
      "source": [
        "\n",
        "df = pd.read_csv('../datasets/merge_3months.csv')\n",
        "df = df.drop(['date','Close'], axis=1)\n",
        "\n",
        "df.info()"
      ]
    },
    {
      "cell_type": "code",
      "execution_count": 63,
      "metadata": {
        "id": "MzVsjucpxqe5"
      },
      "outputs": [],
      "source": [
        "num_col = 10\n",
        "# split into train&val , test set with 0.2\n",
        "train_set, test_set = train_test_split(df, test_size=0.3)\n",
        "# X train, first 5 column\n",
        "X_train = train_set.iloc[:,0:num_col].values\n",
        "# Y value the predicted  the last column\n",
        "Y_train = train_set.iloc[:,num_col].values\n",
        "# defining test dataset\n",
        "X_test = test_set.iloc[:,0:num_col].values\n",
        "Y_test = test_set.iloc[:,num_col].values\n"
      ]
    },
    {
      "cell_type": "code",
      "execution_count": 64,
      "metadata": {
        "id": "c3M1UxM0xwC4"
      },
      "outputs": [
        {
          "name": "stdout",
          "output_type": "stream",
          "text": [
            "[0]\tvalidation_0-auc:0.63818\n"
          ]
        },
        {
          "name": "stderr",
          "output_type": "stream",
          "text": [
            "C:\\Python39\\lib\\site-packages\\xgboost\\sklearn.py:1224: UserWarning: The use of label encoder in XGBClassifier is deprecated and will be removed in a future release. To remove this warning, do the following: 1) Pass option use_label_encoder=False when constructing XGBClassifier object; and 2) Encode your labels (y) as integers starting with 0, i.e. 0, 1, 2, ..., [num_class - 1].\n",
            "  warnings.warn(label_encoder_deprecation_msg, UserWarning)\n"
          ]
        },
        {
          "name": "stdout",
          "output_type": "stream",
          "text": [
            "[1]\tvalidation_0-auc:0.60328\n",
            "[2]\tvalidation_0-auc:0.68598\n",
            "[3]\tvalidation_0-auc:0.66870\n",
            "[4]\tvalidation_0-auc:0.65500\n",
            "[5]\tvalidation_0-auc:0.64222\n",
            "[6]\tvalidation_0-auc:0.63501\n",
            "[7]\tvalidation_0-auc:0.68056\n",
            "[8]\tvalidation_0-auc:0.67313\n",
            "[9]\tvalidation_0-auc:0.74247\n",
            "[10]\tvalidation_0-auc:0.77950\n",
            "[11]\tvalidation_0-auc:0.78114\n",
            "[12]\tvalidation_0-auc:0.78350\n",
            "[13]\tvalidation_0-auc:0.77651\n",
            "[14]\tvalidation_0-auc:0.78297\n",
            "[15]\tvalidation_0-auc:0.77770\n",
            "[16]\tvalidation_0-auc:0.80179\n",
            "[17]\tvalidation_0-auc:0.79818\n",
            "[18]\tvalidation_0-auc:0.79647\n",
            "[19]\tvalidation_0-auc:0.79298\n",
            "[20]\tvalidation_0-auc:0.79107\n",
            "[21]\tvalidation_0-auc:0.78691\n",
            "[22]\tvalidation_0-auc:0.80550\n",
            "[23]\tvalidation_0-auc:0.80739\n",
            "[24]\tvalidation_0-auc:0.81567\n",
            "[25]\tvalidation_0-auc:0.81297\n",
            "[26]\tvalidation_0-auc:0.81034\n",
            "[27]\tvalidation_0-auc:0.80861\n",
            "[28]\tvalidation_0-auc:0.80694\n",
            "[29]\tvalidation_0-auc:0.80442\n",
            "[30]\tvalidation_0-auc:0.80242\n",
            "[31]\tvalidation_0-auc:0.80063\n",
            "[32]\tvalidation_0-auc:0.79892\n",
            "[33]\tvalidation_0-auc:0.79661\n",
            "[34]\tvalidation_0-auc:0.80795\n"
          ]
        },
        {
          "data": {
            "text/plain": [
              "XGBClassifier(base_score=0.5, booster='gbtree', colsample_bylevel=1,\n",
              "              colsample_bynode=1, colsample_bytree=0.5,\n",
              "              enable_categorical=False, eval_metric='auc', gamma=0, gpu_id=-1,\n",
              "              importance_type=None, interaction_constraints='',\n",
              "              learning_rate=0.1, max_delta_step=0, max_depth=5000,\n",
              "              min_child_weight=1, missing=nan, monotone_constraints='()',\n",
              "              n_estimators=3000, n_jobs=8, num_parallel_tree=1,\n",
              "              predictor='auto', random_state=0, reg_alpha=0, reg_lambda=1,\n",
              "              scale_pos_weight=1, subsample=1, tree_method='exact',\n",
              "              validate_parameters=1, verbosity=1)"
            ]
          },
          "execution_count": 64,
          "metadata": {},
          "output_type": "execute_result"
        }
      ],
      "source": [
        "model = XGBClassifier(\n",
        "    learning_rate=0.1,\n",
        "    max_depth= 5000,\n",
        "    n_estimators = 3000,\n",
        "    subsample= 1,\n",
        "    colsample_bytree=0.5,\n",
        "    eval_metric ='auc',\n",
        "    verbosity=1\n",
        ")\n",
        "\n",
        "eval_set = [(X_test, Y_test)]\n",
        "\n",
        "\n",
        "model.fit(\n",
        "    X_train,\n",
        "    Y_train,\n",
        "    early_stopping_rounds=10,\n",
        "    eval_set=eval_set,\n",
        "    verbose=True\n",
        ")"
      ]
    },
    {
      "cell_type": "code",
      "execution_count": 65,
      "metadata": {},
      "outputs": [
        {
          "data": {
            "text/plain": [
              "array([1, 1, 0, ..., 1, 1, 1])"
            ]
          },
          "execution_count": 65,
          "metadata": {},
          "output_type": "execute_result"
        }
      ],
      "source": [
        "y_true = np.array(Y_test.tolist())\n",
        "y_pred = model.predict_proba(X_test)[:,1]\n",
        "y_pred = np.where(y_pred > 0.5, 1, 0)   # Change values into 1s or 0s\n",
        "\n",
        "y_pred"
      ]
    },
    {
      "cell_type": "code",
      "execution_count": 66,
      "metadata": {},
      "outputs": [
        {
          "data": {
            "text/plain": [
              "Text(33.0, 0.5, 'Truth')"
            ]
          },
          "execution_count": 66,
          "metadata": {},
          "output_type": "execute_result"
        },
        {
          "data": {
            "image/png": "[encoded data removed]",
            "text/plain": [
              "<Figure size 432x288 with 2 Axes>"
            ]
          },
          "metadata": {
            "needs_background": "light"
          },
          "output_type": "display_data"
        }
      ],
      "source": [
        "from sklearn.metrics import confusion_matrix, classification_report\n",
        "from matplotlib import pyplot as plt\n",
        "import seaborn as sn\n",
        "\n",
        "cm = confusion_matrix(y_true, y_pred)\n",
        "\n",
        "sn.heatmap(cm, annot=True, fmt='d')\n",
        "plt.xlabel('Predicted')\n",
        "plt.ylabel('Truth')"
      ]
    },
    {
      "cell_type": "code",
      "execution_count": 67,
      "metadata": {},
      "outputs": [
        {
          "name": "stdout",
          "output_type": "stream",
          "text": [
            "              precision    recall  f1-score   support\n",
            "\n",
            "           0       0.75      0.72      0.73      4953\n",
            "           1       0.73      0.77      0.75      5022\n",
            "\n",
            "    accuracy                           0.74      9975\n",
            "   macro avg       0.74      0.74      0.74      9975\n",
            "weighted avg       0.74      0.74      0.74      9975\n",
            "\n"
          ]
        }
      ],
      "source": [
        "print(classification_report(y_true, y_pred))"
      ]
    },
    {
      "cell_type": "code",
      "execution_count": 68,
      "metadata": {},
      "outputs": [
        {
          "data": {
            "text/plain": [
              "<sklearn.metrics._plot.roc_curve.RocCurveDisplay at 0x26dc31fc340>"
            ]
          },
          "execution_count": 68,
          "metadata": {},
          "output_type": "execute_result"
        },
        {
          "data": {
            "image/png": "[encoded data removed]",
            "text/plain": [
              "<Figure size 432x288 with 1 Axes>"
            ]
          },
          "metadata": {
            "needs_background": "light"
          },
          "output_type": "display_data"
        }
      ],
      "source": [
        "from sklearn.metrics import RocCurveDisplay\n",
        "\n",
        "RocCurveDisplay.from_predictions(y_true, y_pred)"
      ]
    },
    {
      "cell_type": "code",
      "execution_count": 69,
      "metadata": {},
      "outputs": [],
      "source": [
        "model.save_model('../saved_model/3_month/model_3month_full.txt')"
      ]
    },
    {
      "cell_type": "code",
      "execution_count": 70,
      "metadata": {
        "colab": {
          "base_uri": "https://localhost:8080/"
        },
        "id": "L96dd1ngxxYt",
        "outputId": "070a3048-e6d3-4492-f78c-e841798421d3"
      },
      "outputs": [],
      "source": [
        "# learning_rate_list = [0.02, 0.05, 0.1]\n",
        "# max_depth_list = [2000, 3000, 5000]\n",
        "# n_estimators_list = [1000, 2000, 3000]\n",
        "\n",
        "# params_dict = {\"learning_rate\": learning_rate_list,\n",
        "#                \"max_depth\": max_depth_list,\n",
        "#                \"n_estimators\": n_estimators_list}\n",
        "\n",
        "# num_combinations = 1\n",
        "# for v in params_dict.values(): num_combinations *= len(v) \n",
        "\n",
        "# print(num_combinations)\n",
        "# params_dict"
      ]
    },
    {
      "cell_type": "code",
      "execution_count": 71,
      "metadata": {
        "colab": {
          "base_uri": "https://localhost:8080/"
        },
        "id": "9E267d2Mx2Eh",
        "outputId": "566143f6-4529-4618-f5f9-60122f483f83"
      },
      "outputs": [],
      "source": [
        "# def my_roc_auc_score(model, X, y): return roc_auc_score(y, model.predict_proba(X)[:,1])\n",
        "\n",
        "# model_xgboost_hp = GridSearchCV(estimator=XGBClassifier(subsample=0.5,\n",
        "#                                                                 colsample_bytree=0.25,\n",
        "#                                                                 eval_metric='auc',\n",
        "#                                                                 use_label_encoder=False),\n",
        "#                                 param_grid=params_dict,\n",
        "#                                 cv=2,\n",
        "#                                 scoring=my_roc_auc_score,\n",
        "#                                 return_train_score=True,\n",
        "#                                 verbose=4)\n",
        "# 14\n",
        "# model_xgboost_hp.fit(X_train, Y_train)"
      ]
    },
    {
      "cell_type": "code",
      "execution_count": 72,
      "metadata": {
        "colab": {
          "base_uri": "https://localhost:8080/",
          "height": 896
        },
        "id": "ZNBmdHq7x5wt",
        "outputId": "3dfd13e9-afe4-43fa-eea6-bee0bdafba1e"
      },
      "outputs": [
        {
          "ename": "NameError",
          "evalue": "name 'model_xgboost_hp' is not defined",
          "output_type": "error",
          "traceback": [
            "\u001b[1;31m---------------------------------------------------------------------------\u001b[0m",
            "\u001b[1;31mNameError\u001b[0m                                 Traceback (most recent call last)",
            "\u001b[1;32m~\\AppData\\Local\\Temp/ipykernel_18624/4182397235.py\u001b[0m in \u001b[0;36m<module>\u001b[1;34m\u001b[0m\n\u001b[1;32m----> 1\u001b[1;33m \u001b[0mdf_cv_results\u001b[0m \u001b[1;33m=\u001b[0m \u001b[0mpd\u001b[0m\u001b[1;33m.\u001b[0m\u001b[0mDataFrame\u001b[0m\u001b[1;33m(\u001b[0m\u001b[0mmodel_xgboost_hp\u001b[0m\u001b[1;33m.\u001b[0m\u001b[0mcv_results_\u001b[0m\u001b[1;33m)\u001b[0m\u001b[1;33m\u001b[0m\u001b[1;33m\u001b[0m\u001b[0m\n\u001b[0m\u001b[0;32m      2\u001b[0m df_cv_results = df_cv_results[['rank_test_score','mean_test_score','mean_train_score',\n\u001b[0;32m      3\u001b[0m                                'param_learning_rate', 'param_max_depth', 'param_n_estimators']]\n\u001b[0;32m      4\u001b[0m \u001b[0mdf_cv_results\u001b[0m\u001b[1;33m.\u001b[0m\u001b[0msort_values\u001b[0m\u001b[1;33m(\u001b[0m\u001b[0mby\u001b[0m\u001b[1;33m=\u001b[0m\u001b[1;34m'rank_test_score'\u001b[0m\u001b[1;33m,\u001b[0m \u001b[0minplace\u001b[0m\u001b[1;33m=\u001b[0m\u001b[1;32mTrue\u001b[0m\u001b[1;33m)\u001b[0m\u001b[1;33m\u001b[0m\u001b[1;33m\u001b[0m\u001b[0m\n\u001b[0;32m      5\u001b[0m \u001b[0mdf_cv_results\u001b[0m\u001b[1;33m\u001b[0m\u001b[1;33m\u001b[0m\u001b[0m\n",
            "\u001b[1;31mNameError\u001b[0m: name 'model_xgboost_hp' is not defined"
          ]
        }
      ],
      "source": [
        "df_cv_results = pd.DataFrame(model_xgboost_hp.cv_results_)\n",
        "df_cv_results = df_cv_results[['rank_test_score','mean_test_score','mean_train_score',\n",
        "                               'param_learning_rate', 'param_max_depth', 'param_n_estimators']]\n",
        "df_cv_results.sort_values(by='rank_test_score', inplace=True)\n",
        "df_cv_results\n"
      ]
    }
  ],
  "metadata": {
    "colab": {
      "name": "model_xg.ipynb",
      "provenance": []
    },
    "kernelspec": {
      "display_name": "Python 3",
      "name": "python3"
    },
    "language_info": {
      "codemirror_mode": {
        "name": "ipython",
        "version": 3
      },
      "file_extension": ".py",
      "mimetype": "text/x-python",
      "name": "python",
      "nbconvert_exporter": "python",
      "pygments_lexer": "ipython3",
      "version": "3.9.0"
    }
  },
  "nbformat": 4,
  "nbformat_minor": 0
}
