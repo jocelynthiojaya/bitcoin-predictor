{
  "cells": [
    {
      "cell_type": "code",
      "execution_count": 97,
      "metadata": {
        "id": "U6vFquwxw5eK"
      },
      "outputs": [],
      "source": [
        "from numpy import loadtxt\n",
        "from xgboost import XGBClassifier\n",
        "from sklearn.model_selection import train_test_split\n",
        "from sklearn.model_selection import GridSearchCV\n",
        "from sklearn.metrics import accuracy_score\n",
        "from sklearn.metrics import roc_auc_score\n",
        "import numpy as np\n",
        "from matplotlib import pyplot as plt\n",
        "import pandas as pd "
      ]
    },
    {
      "cell_type": "code",
      "execution_count": 98,
      "metadata": {
        "colab": {
          "base_uri": "https://localhost:8080/"
        },
        "id": "fHNjPOtLxECI",
        "outputId": "29e9f6ed-04e7-49f9-e66f-a492d917e73c"
      },
      "outputs": [
        {
          "name": "stdout",
          "output_type": "stream",
          "text": [
            "<class 'pandas.core.frame.DataFrame'>\n",
            "RangeIndex: 33247 entries, 0 to 33246\n",
            "Data columns (total 6 columns):\n",
            " #   Column       Non-Null Count  Dtype  \n",
            "---  ------       --------------  -----  \n",
            " 0   Open         33247 non-null  float64\n",
            " 1   Close        33247 non-null  float64\n",
            " 2   Volume       33247 non-null  float64\n",
            " 3   VWAP         33247 non-null  float64\n",
            " 4   Target       33247 non-null  float64\n",
            " 5   is_positive  33247 non-null  int64  \n",
            "dtypes: float64(5), int64(1)\n",
            "memory usage: 1.5 MB\n"
          ]
        }
      ],
      "source": [
        "\n",
        "df = pd.read_csv('../datasets/merge_3months.csv')\n",
        "drop_sent = ['date','user_followers', 'user_favourites','user_verified','sentimental_value']\n",
        "xtreme = ['date','Close','High','Low','Volume','VWAP','Target']\n",
        "closeMod = ['date','Close']\n",
        "volume = ['date','Volume','VWAP','Target']\n",
        "highLow = ['date','High','Low']\n",
        "closeHigh = ['date','High','Close']\n",
        "df = df.drop(highLow+drop_sent, axis=1)\n",
        "\n",
        "df.info()"
      ]
    },
    {
      "cell_type": "code",
      "execution_count": 99,
      "metadata": {
        "id": "MzVsjucpxqe5"
      },
      "outputs": [],
      "source": [
        "num_col = 5\n",
        "# split into train&val , test set with 0.2\n",
        "train_set, test_set = train_test_split(df, test_size=0.3)\n",
        "# X train, first 5 column\n",
        "X_train = train_set.iloc[:,0:num_col].values\n",
        "# Y value the predicted  the last column\n",
        "Y_train = train_set.iloc[:,num_col].values\n",
        "# defining test dataset\n",
        "X_test = test_set.iloc[:,0:num_col].values\n",
        "Y_test = test_set.iloc[:,num_col].values\n"
      ]
    },
    {
      "cell_type": "code",
      "execution_count": 100,
      "metadata": {
        "id": "c3M1UxM0xwC4"
      },
      "outputs": [
        {
          "name": "stderr",
          "output_type": "stream",
          "text": [
            "C:\\Python39\\lib\\site-packages\\xgboost\\sklearn.py:1224: UserWarning: The use of label encoder in XGBClassifier is deprecated and will be removed in a future release. To remove this warning, do the following: 1) Pass option use_label_encoder=False when constructing XGBClassifier object; and 2) Encode your labels (y) as integers starting with 0, i.e. 0, 1, 2, ..., [num_class - 1].\n",
            "  warnings.warn(label_encoder_deprecation_msg, UserWarning)\n"
          ]
        },
        {
          "name": "stdout",
          "output_type": "stream",
          "text": [
            "[0]\tvalidation_0-auc:0.83457\n",
            "[1]\tvalidation_0-auc:0.84464\n",
            "[2]\tvalidation_0-auc:0.82858\n",
            "[3]\tvalidation_0-auc:0.82095\n",
            "[4]\tvalidation_0-auc:0.83435\n",
            "[5]\tvalidation_0-auc:0.84309\n",
            "[6]\tvalidation_0-auc:0.85003\n",
            "[7]\tvalidation_0-auc:0.84628\n",
            "[8]\tvalidation_0-auc:0.88719\n",
            "[9]\tvalidation_0-auc:0.88515\n",
            "[10]\tvalidation_0-auc:0.87949\n",
            "[11]\tvalidation_0-auc:0.87601\n",
            "[12]\tvalidation_0-auc:0.87307\n",
            "[13]\tvalidation_0-auc:0.86867\n",
            "[14]\tvalidation_0-auc:0.88590\n",
            "[15]\tvalidation_0-auc:0.88306\n",
            "[16]\tvalidation_0-auc:0.88691\n",
            "[17]\tvalidation_0-auc:0.89737\n",
            "[18]\tvalidation_0-auc:0.89447\n",
            "[19]\tvalidation_0-auc:0.89228\n",
            "[20]\tvalidation_0-auc:0.88932\n",
            "[21]\tvalidation_0-auc:0.88646\n",
            "[22]\tvalidation_0-auc:0.88406\n",
            "[23]\tvalidation_0-auc:0.88133\n",
            "[24]\tvalidation_0-auc:0.88536\n",
            "[25]\tvalidation_0-auc:0.88276\n",
            "[26]\tvalidation_0-auc:0.89651\n"
          ]
        },
        {
          "data": {
            "text/plain": [
              "XGBClassifier(base_score=0.5, booster='gbtree', colsample_bylevel=1,\n",
              "              colsample_bynode=1, colsample_bytree=0.5,\n",
              "              enable_categorical=False, eval_metric='auc', gamma=0, gpu_id=-1,\n",
              "              importance_type=None, interaction_constraints='',\n",
              "              learning_rate=0.1, max_delta_step=0, max_depth=5000,\n",
              "              min_child_weight=1, missing=nan, monotone_constraints='()',\n",
              "              n_estimators=3000, n_jobs=8, num_parallel_tree=1,\n",
              "              predictor='auto', random_state=0, reg_alpha=0, reg_lambda=1,\n",
              "              scale_pos_weight=1, subsample=1, tree_method='exact',\n",
              "              validate_parameters=1, verbosity=1)"
            ]
          },
          "execution_count": 100,
          "metadata": {},
          "output_type": "execute_result"
        }
      ],
      "source": [
        "model = XGBClassifier(\n",
        "    learning_rate=0.1,\n",
        "    max_depth= 5000,\n",
        "    n_estimators = 3000,\n",
        "    subsample= 1,\n",
        "    colsample_bytree=0.5,\n",
        "    eval_metric ='auc',\n",
        "    verbosity=1\n",
        ")\n",
        "\n",
        "eval_set = [(X_test, Y_test)]\n",
        "\n",
        "\n",
        "model.fit(\n",
        "    X_train,\n",
        "    Y_train,\n",
        "    early_stopping_rounds=10,\n",
        "    eval_set=eval_set,\n",
        "    verbose=True\n",
        ")"
      ]
    },
    {
      "cell_type": "code",
      "execution_count": 101,
      "metadata": {},
      "outputs": [
        {
          "data": {
            "text/plain": [
              "array([1, 1, 0, ..., 1, 1, 1])"
            ]
          },
          "execution_count": 101,
          "metadata": {},
          "output_type": "execute_result"
        }
      ],
      "source": [
        "y_true = np.array(Y_test.tolist())\n",
        "y_pred = model.predict_proba(X_test)[:,1]\n",
        "y_pred = np.where(y_pred > 0.5, 1, 0)   # Change values into 1s or 0s\n",
        "\n",
        "y_pred"
      ]
    },
    {
      "cell_type": "code",
      "execution_count": 102,
      "metadata": {},
      "outputs": [
        {
          "data": {
            "text/plain": [
              "Text(33.0, 0.5, 'Truth')"
            ]
          },
          "execution_count": 102,
          "metadata": {},
          "output_type": "execute_result"
        },
        {
          "data": {
            "image/png": "[encoded data removed]",
            "text/plain": [
              "<Figure size 432x288 with 2 Axes>"
            ]
          },
          "metadata": {
            "needs_background": "light"
          },
          "output_type": "display_data"
        }
      ],
      "source": [
        "from sklearn.metrics import confusion_matrix, classification_report\n",
        "from matplotlib import pyplot as plt\n",
        "import seaborn as sn\n",
        "\n",
        "cm = confusion_matrix(y_true, y_pred)\n",
        "\n",
        "sn.heatmap(cm, annot=True, fmt='d')\n",
        "plt.xlabel('Predicted')\n",
        "plt.ylabel('Truth')"
      ]
    },
    {
      "cell_type": "code",
      "execution_count": 103,
      "metadata": {},
      "outputs": [
        {
          "name": "stdout",
          "output_type": "stream",
          "text": [
            "              precision    recall  f1-score   support\n",
            "\n",
            "           0       0.81      0.82      0.82      4922\n",
            "           1       0.82      0.81      0.82      5053\n",
            "\n",
            "    accuracy                           0.82      9975\n",
            "   macro avg       0.82      0.82      0.82      9975\n",
            "weighted avg       0.82      0.82      0.82      9975\n",
            "\n"
          ]
        }
      ],
      "source": [
        "print(classification_report(y_true, y_pred))"
      ]
    },
    {
      "cell_type": "code",
      "execution_count": 104,
      "metadata": {},
      "outputs": [
        {
          "data": {
            "text/plain": [
              "<sklearn.metrics._plot.roc_curve.RocCurveDisplay at 0x110802b2eb0>"
            ]
          },
          "execution_count": 104,
          "metadata": {},
          "output_type": "execute_result"
        },
        {
          "data": {
            "image/png": "[encoded data removed]",
            "text/plain": [
              "<Figure size 432x288 with 1 Axes>"
            ]
          },
          "metadata": {
            "needs_background": "light"
          },
          "output_type": "display_data"
        }
      ],
      "source": [
        "from sklearn.metrics import RocCurveDisplay\n",
        "\n",
        "RocCurveDisplay.from_predictions(y_true, y_pred)"
      ]
    },
    {
      "cell_type": "code",
      "execution_count": 105,
      "metadata": {},
      "outputs": [],
      "source": [
        "model.save_model('../saved_model/3_month/model_highlow_nosent_3month_full.txt')"
      ]
    },
    {
      "cell_type": "code",
      "execution_count": 106,
      "metadata": {
        "colab": {
          "base_uri": "https://localhost:8080/"
        },
        "id": "L96dd1ngxxYt",
        "outputId": "070a3048-e6d3-4492-f78c-e841798421d3"
      },
      "outputs": [],
      "source": [
        "# learning_rate_list = [0.02, 0.05, 0.1]\n",
        "# max_depth_list = [2000, 3000, 5000]\n",
        "# n_estimators_list = [1000, 2000, 3000]\n",
        "\n",
        "# params_dict = {\"learning_rate\": learning_rate_list,\n",
        "#                \"max_depth\": max_depth_list,\n",
        "#                \"n_estimators\": n_estimators_list}\n",
        "\n",
        "# num_combinations = 1\n",
        "# for v in params_dict.values(): num_combinations *= len(v) \n",
        "\n",
        "# print(num_combinations)\n",
        "# params_dict"
      ]
    },
    {
      "cell_type": "code",
      "execution_count": 107,
      "metadata": {
        "colab": {
          "base_uri": "https://localhost:8080/"
        },
        "id": "9E267d2Mx2Eh",
        "outputId": "566143f6-4529-4618-f5f9-60122f483f83"
      },
      "outputs": [],
      "source": [
        "# def my_roc_auc_score(model, X, y): return roc_auc_score(y, model.predict_proba(X)[:,1])\n",
        "\n",
        "# model_xgboost_hp = GridSearchCV(estimator=XGBClassifier(subsample=0.5,\n",
        "#                                                                 colsample_bytree=0.25,\n",
        "#                                                                 eval_metric='auc',\n",
        "#                                                                 use_label_encoder=False),\n",
        "#                                 param_grid=params_dict,\n",
        "#                                 cv=2,\n",
        "#                                 scoring=my_roc_auc_score,\n",
        "#                                 return_train_score=True,\n",
        "#                                 verbose=4)\n",
        "# 14\n",
        "# model_xgboost_hp.fit(X_train, Y_train)"
      ]
    },
    {
      "cell_type": "code",
      "execution_count": 108,
      "metadata": {
        "colab": {
          "base_uri": "https://localhost:8080/",
          "height": 896
        },
        "id": "ZNBmdHq7x5wt",
        "outputId": "3dfd13e9-afe4-43fa-eea6-bee0bdafba1e"
      },
      "outputs": [],
      "source": [
        "# df_cv_results = pd.DataFrame(model_xgboost_hp.cv_results_)\n",
        "# df_cv_results = df_cv_results[['rank_test_score','mean_test_score','mean_train_score',\n",
        "#                                'param_learning_rate', 'param_max_depth', 'param_n_estimators']]\n",
        "# df_cv_results.sort_values(by='rank_test_score', inplace=True)\n",
        "# df_cv_results\n"
      ]
    }
  ],
  "metadata": {
    "colab": {
      "name": "model_xg.ipynb",
      "provenance": []
    },
    "kernelspec": {
      "display_name": "Python 3",
      "name": "python3"
    },
    "language_info": {
      "codemirror_mode": {
        "name": "ipython",
        "version": 3
      },
      "file_extension": ".py",
      "mimetype": "text/x-python",
      "name": "python",
      "nbconvert_exporter": "python",
      "pygments_lexer": "ipython3",
      "version": "3.9.0"
    }
  },
  "nbformat": 4,
  "nbformat_minor": 0
}
